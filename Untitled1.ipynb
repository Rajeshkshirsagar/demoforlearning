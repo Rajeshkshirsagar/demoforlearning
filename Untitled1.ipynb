{
 "cells": [
  {
   "cell_type": "code",
   "execution_count": 1,
   "id": "d1a159c8",
   "metadata": {},
   "outputs": [
    {
     "name": "stdout",
     "output_type": "stream",
     "text": [
      "test\n",
      "25000\n",
      "pqr\n",
      "30000\n"
     ]
    }
   ],
   "source": [
    "class Emp:\n",
    "    def __init__(self,name,sal):\n",
    "        self.name=name\n",
    "        self.sal=sal\n",
    "    \n",
    "    def display(self):\n",
    "        print(self.name)\n",
    "        print(self.sal)\n",
    "        \n",
    "e1=Emp('test',25000)\n",
    "e2=Emp('pqr',30000)\n",
    "e1.display()\n",
    "e2.display()"
   ]
  },
  {
   "cell_type": "code",
   "execution_count": 2,
   "id": "37034b11",
   "metadata": {},
   "outputs": [
    {
     "name": "stdout",
     "output_type": "stream",
     "text": [
      "25000\n"
     ]
    }
   ],
   "source": [
    "print(e1.sal)"
   ]
  },
  {
   "cell_type": "code",
   "execution_count": 4,
   "id": "0fd898de",
   "metadata": {},
   "outputs": [
    {
     "name": "stdout",
     "output_type": "stream",
     "text": [
      "enter namedemo\n",
      "enter salary34000\n"
     ]
    }
   ],
   "source": [
    "name=input(\"enter name\")\n",
    "sal=input(\"enter salary\")"
   ]
  },
  {
   "cell_type": "code",
   "execution_count": 6,
   "id": "0f5dce45",
   "metadata": {},
   "outputs": [],
   "source": [
    "salary=int(sal)\n",
    "e3=Emp(name,salary)"
   ]
  },
  {
   "cell_type": "code",
   "execution_count": 7,
   "id": "8e0f88b8",
   "metadata": {},
   "outputs": [
    {
     "name": "stdout",
     "output_type": "stream",
     "text": [
      "demo\n",
      "34000\n"
     ]
    }
   ],
   "source": [
    "e3.display()"
   ]
  },
  {
   "cell_type": "code",
   "execution_count": 8,
   "id": "3df9e69f",
   "metadata": {},
   "outputs": [
    {
     "name": "stdout",
     "output_type": "stream",
     "text": [
      "[<__main__.Emp object at 0x7fd3346e30d0>, <__main__.Emp object at 0x7fd3346e3130>, <__main__.Emp object at 0x7fd33473aac0>]\n"
     ]
    }
   ],
   "source": [
    "a=[e1,e2,e3]\n",
    "print(a)"
   ]
  },
  {
   "cell_type": "code",
   "execution_count": 9,
   "id": "d00d9386",
   "metadata": {},
   "outputs": [
    {
     "name": "stdout",
     "output_type": "stream",
     "text": [
      "test\n",
      "25000\n",
      "pqr\n",
      "30000\n",
      "demo\n",
      "34000\n"
     ]
    }
   ],
   "source": [
    "for e in a:\n",
    "    e.display()"
   ]
  },
  {
   "cell_type": "code",
   "execution_count": null,
   "id": "19617074",
   "metadata": {},
   "outputs": [],
   "source": []
  }
 ],
 "metadata": {
  "kernelspec": {
   "display_name": "Python 3 (ipykernel)",
   "language": "python",
   "name": "python3"
  },
  "language_info": {
   "codemirror_mode": {
    "name": "ipython",
    "version": 3
   },
   "file_extension": ".py",
   "mimetype": "text/x-python",
   "name": "python",
   "nbconvert_exporter": "python",
   "pygments_lexer": "ipython3",
   "version": "3.8.10"
  }
 },
 "nbformat": 4,
 "nbformat_minor": 5
}
